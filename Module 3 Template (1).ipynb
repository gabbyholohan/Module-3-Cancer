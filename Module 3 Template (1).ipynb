{
 "cells": [
  {
   "cell_type": "markdown",
   "id": "07d08828-39be-453d-9c15-7d0737ceb72f",
   "metadata": {},
   "source": [
    "## Module_3: *Cancer*\n",
    "\n",
    "## Team Members:\n",
    "Gabby Holohan & Meredith Lineweaver\n",
    "\n",
    "## Project Title:\n",
    "Impact of E-Cadherin gene on Breast Cancer Prognosis\n",
    "\n"
   ]
  },
  {
   "cell_type": "markdown",
   "id": "8372d796-186a-4ae2-9b4f-0065979e555a",
   "metadata": {},
   "source": [
    "## Project Goal:\n",
    "This project seeks to... *(what is the purpose of your project -- i.e., describe the question that you seek to answer by analyzing data.)*"
   ]
  },
  {
   "attachments": {},
   "cell_type": "markdown",
   "id": "91408b75-185a-4d66-9ce7-7c7aabbde5e1",
   "metadata": {},
   "source": [
    "## Disease Background:\n",
    "*Pick a hallmark to focus on, and figure out what genes you are interested in researching based on that decision. Then fill out the information below.*\n",
    "\n",
    "* Cancer hallmark focus: Activating Invasion and Metastasis\n",
    "* Overview of hallmark:\n",
    "Invasion and metastasis are categorized in a series of steps beginning with local invasion, followed by expansion to blood and lymphatic vessels, escape of cancer cells into tissues, and formation of tumors. In carcinoma cells, it is often found that a molecule responsible for shaping endothelial sheets, E-cadherin, is decreased, allowing cancer cells to migrate and the cancer to metastasize. Some transcription factors such as Snail, Slug, Twist, and Zeb1/2 help regulate the migratory process of cells, and some are even involved in the E-cadherin gene expression. The exact interactions and roles of these transcription factors on E-cadherin expression remain largely unknown. The general consensus, however, is clear that increasing expression of molecules aiding the assembly of endothelial sheets or structures like E-cadherin decreases the ability of cancer to metastasize while decreasing expression of molecules like E-cadherin enhances the cancer’s ability to spread.\n",
    "* Genes associated with hallmark to be studied (describe the role of each gene, signaling pathway, or gene set you are going to investigate): \n",
    "The EDH1 gene transcribes E-cadherin, a protein that allows endothelial cells to adhere to one another. Deficiency in E-cadherin results in Epithelial-mesenchymal transition (EMT): a condition which causes cells to become depolarized and unable to adhere to one another.\n",
    "https://www.sciencedirect.com/science/article/abs/pii/S0924224424000748?via%3Dihub\n",
    "Mutations, proteolytic cleavage, chromosomal deletions, epigenetic regulation and transcriptional silencing of CDH1 promoter may limit the functionality of E-cadherin, especially in gastric, breast, liver, pancreatic, and skin cancer\n",
    "Loss of E-cadherin activates EMT transcription factors --> metastasis/invasion\n",
    "E-cadherin regulates receptor tyrosine kinase (RTK) and tyrosine kinase Src\n",
    "E-cadherin-expressing cell line w/ increased nuclear factor kappa-light-chain-enhancer of activated B cells (NF-κB) activity and increased c-Myc expression promote cell proliferation when adenosine triphosphate (ATP) production increases, increasing glycolysis and oxidative phosphorylation rates\n",
    "N-cadherin is another protein in the cadherin family which contributes to EMT at increased levels. EMT is found to inhibit apoptosis via the death receptor 4 TNF-related apoptosis-inducing ligand-receptor 1 (TRAIL-R1) and/or death receptor 5 TRAIL-R2\n",
    "https://pmc.ncbi.nlm.nih.gov/articles/PMC6830116/\n",
    "CDH2 is the gene related to N-cadherin expression, often involved in neurocognitive disease.\n",
    "Elevated expression of CDH2 is tied to decreased expression in EDH1 and the development of EMT\n",
    "https://www.frontiersin.org/journals/neuroscience/articles/10.3389/fnins.2022.972059/full\n",
    "\n",
    "*Will you be focusing on a single cancer type or looking across cancer types? Depending on your decision, update this section to include relevant information about the disease at the appropriate level of detail. Regardless, each bullet point should be filled in. If you are looking at multiple cancer types, you should investigate differences between the types (e.g. what is the most prevalent cancer type? What type has the highest mortality rate?) and similarities (e.g. what sorts of treatments exist across the board for cancer patients? what is common to all cancers in terms of biological mechanisms?). Note that this is a smaller list than the initial 11 in Module 1.*\n",
    "\n",
    "* Prevalence & incidence\n",
    "    - Breast cancer is second most common cancer for women in US, 2nd leading cause of cancer death, and leading cause of cancer death for Hispanic and Black women\n",
    "    https://www.cdc.gov/breast-cancer/statistics/index.html\n",
    "    - 279,731 new breast cancers in women in the US were reported in 2022, and 42,213 women in the US died from breast cancer in 2023\n",
    "    - Incidence is 132.9 per 100,000 in US annually\n",
    "    https://www.cdc.gov/united-states-cancer-statistics/publications/breast-cancer-stat-bite.html\n",
    "* Risk factors (genetic, lifestyle) & Societal determinants\n",
    "    - being female\n",
    "    - older age\n",
    "    - family history\n",
    "    - personal history of cancer\n",
    "    - dense breasts\n",
    "    - physical inactivity\n",
    "    - being overweight or obese\n",
    "    - alcohol consumption\n",
    "    - hormone use/oral contraceptive use\n",
    "    - societal determinants: poverty, lack of education, unemployment, lower health literacy, lack of health insurance, living in disadvantaged neighborhoods, housing and food insecurity, delayed childbearing\n",
    "    - genetic mutations in BRCA1, BRCA2, ATM, BARD1, BRIP1, CHEK2, CDH1\n",
    "    https://www.cdc.gov/breast-cancer/risk-factors/index.html\n",
    "* Standard of care treatments (& reimbursement)\n",
    "    - surgery: mastectomies and lumpectomies\n",
    "    - radiation therapy\n",
    "    - chemotherapy\n",
    "    - targeted therapy drugs\n",
    "    - hormone therapy\n",
    "    - reimbursement depends on insurance type (ex. private, Medicare, or Medicaid)\n",
    "    https://www.breastcancer.org/managing-life/covering-cost-of-care/cost-of-care-report\n",
    "    https://www.cancer.gov/types/breast/hp/breast-treatment-pdq\n",
    "* Biological mechanisms (anatomy, organ physiology, cell & molecular physiology)\n",
    "    - most breast cancers originate in the epithelial cells lining the ducts or the lobules\n",
    "    - genetic mutations accumulate in the breast epithelial cells: spontaneous or inherited mutations\n",
    "    - chromosomal rearrangements can activate oncogenes/silence tumor supressor genes - these rearrangements can be triggered by estrogen\n",
    "    - if a breast cancer is hormone receptor positive that means they grow in response to estrogen or progesterone, they can also overexpress HER2\n",
    "    - additional mutations can lead to invasion, angiogenesis, and metastasis\n",
    "    https://link.springer.com/chapter/10.1007/978-3-319-21683-6_9\n"
   ]
  },
  {
   "cell_type": "markdown",
   "id": "3b99aefb-cb03-4bd8-b972-437eb0e02dfe",
   "metadata": {},
   "source": [
    "## Data-Set: \n",
    "\n",
    "*Once you decide on the subset of data you want to use (i.e. only 1 cancer type or many; any clinical features needed?; which genes will you look at?) describe the dataset. There are a ton of clinical features, so you don't need to describe them all, only the ones pertinent to your question.*\n",
    "\n",
    "\n",
    "\n",
    "The data analyzed for this project comes from a paper published in Bioinformatics titled \"Alternative preprocessing of RNA-Sequencing data in The Cancer Genome Atlas leads to improved analysis results\". These scientists collected data for the 9265 tumor and 741 normal samples across 24 cancer types using the Rsubread package. To obtain the RNA-Sequencing and clinical data, the scientists compared TCGA samples that were processed using pipelines and determined the Rsubread pipeline produced fewer errors and more consistent expression levels. For this project we only used data that contained information about the CDH1 gene. \n"
   ]
  },
  {
   "cell_type": "markdown",
   "id": "f4cde622-5508-4a54-aba8-77b454138bff",
   "metadata": {},
   "source": [
    "## Data Analyis: \n",
    "\n",
    "### Methods\n",
    "The machine learning technique I am using is: *fill in and describe*\n",
    "\n",
    "*What is this method optimizing? How does the model decide it is \"good enough\"?*\n",
    "\n",
    "**\n",
    "\n",
    "### Analysis\n",
    "*(Describe how you analyzed the data. This is where you should intersperse your Python code so that anyone reading this can run your code to perform the analysis that you did, generate your figures, etc.)*"
   ]
  },
  {
   "cell_type": "code",
   "execution_count": null,
   "id": "fbb3bfbc",
   "metadata": {},
   "outputs": [],
   "source": [
    "\n",
    "# %%\n",
    "import pandas as pd\n",
    "\n",
    "clin_df = pd.read_csv(\n",
    "    '../Data/raw/GSE62944_06_01_15_TCGA_24_548_Clinical_Variables_9264_Samples.txt', index_col=0, header=0, sep='\\t')\n",
    "\n",
    "clin_df = clin_df.transpose()\n",
    "print(clin_df.head())\n",
    "# %%\n",
    "survival_data = pd.read_excel(\n",
    "    \"../data/Metadata_with_survival.xlsx\", index_col=1, header=0, sheet_name='TCGA-CDR')\n",
    "print(survival_data.head())\n",
    "\n",
    "# %%\n",
    "data = pd.read_csv('../Data/GSE62944_metadata.csv',\n",
    "                   index_col=0, header=0)\n",
    "print(data.head())\n",
    "# %%\n",
    "subset_survival_data = pd.DataFrame(columns=survival_data.columns)\n",
    "for i, r in data.iterrows():\n",
    "    barcode = r['bcr_patient_barcode']\n",
    "    if barcode in survival_data.index:\n",
    "\n",
    "        new_row_df = pd.DataFrame(\n",
    "            [survival_data.loc[barcode]])  # wrap dict in a list\n",
    "        new_row_df.index = [i]\n",
    "        subset_survival_data = pd.concat(\n",
    "            [subset_survival_data, new_row_df], ignore_index=False)\n",
    "    else:\n",
    "        print(f\"Barcode {i} not found in survival data.\")\n",
    "        # add a row of NaNs\n",
    "        new_row_df = pd.DataFrame(\n",
    "            [pd.Series({col: pd.NA for col in survival_data.columns}, name=i)])\n",
    "        subset_survival_data = pd.concat(\n",
    "            [subset_survival_data, new_row_df], ignore_index=False)\n",
    "\n",
    "subset_survival_data = subset_survival_data.drop(\"Unnamed: 0\", axis=1)\n",
    "\n",
    "subset_survival_data.to_csv('../Data/subsampled_TCGA_CDR_metadata.csv')"
   ]
  },
  {
   "cell_type": "markdown",
   "id": "5c67b6a4-ec94-4d28-b2a7-f6b860495118",
   "metadata": {},
   "source": [
    "## Verify and validate your analysis: \n",
    "*Pick a SPECIFIC method to determine how well your model is performing and describe how it works here.*\n",
    "\n",
    "*(Describe how you checked to see that your analysis gave you an answer that you believe (verify). Describe how your determined if your analysis gave you an answer that is supported by other evidence (e.g., a published paper).*"
   ]
  },
  {
   "cell_type": "markdown",
   "id": "2736cf95-2b93-444f-90c8-d40a54fc1df1",
   "metadata": {},
   "source": [
    "## Conclusions and Ethical Implications: \n",
    "*(Think about the answer your analysis generated, draw conclusions related to your overarching question, and discuss the ethical implications of your conclusions.*"
   ]
  },
  {
   "cell_type": "markdown",
   "id": "f023b735-6efb-43ed-a03d-eb4a9cdb734e",
   "metadata": {},
   "source": [
    "## Limitations and Future Work: \n",
    "*(Think about the answer your analysis generated, draw conclusions related to your overarching question, and discuss the ethical implications of your conclusions.*"
   ]
  },
  {
   "cell_type": "markdown",
   "id": "d9295960-2404-43dc-b46f-9a6f823f1657",
   "metadata": {},
   "source": [
    "## NOTES FROM YOUR TEAM: \n",
    "*This is where our team is taking notes and recording activity.*"
   ]
  },
  {
   "cell_type": "markdown",
   "id": "bd725b7f-9741-46b6-a213-9518da9201c3",
   "metadata": {},
   "source": [
    "## QUESTIONS FOR YOUR TA: \n",
    "*These are questions we have for our TA.*"
   ]
  },
  {
   "cell_type": "code",
   "execution_count": null,
   "id": "0d0190cf-c056-4b2c-a0c0-a56dfb854a55",
   "metadata": {},
   "outputs": [],
   "source": []
  }
 ],
 "metadata": {
  "kernelspec": {
   "display_name": "Python [conda env:base] *",
   "language": "python",
   "name": "conda-base-py"
  },
  "language_info": {
   "codemirror_mode": {
    "name": "ipython",
    "version": 3
   },
   "file_extension": ".py",
   "mimetype": "text/x-python",
   "name": "python",
   "nbconvert_exporter": "python",
   "pygments_lexer": "ipython3",
   "version": "3.13.5"
  }
 },
 "nbformat": 4,
 "nbformat_minor": 5
}
